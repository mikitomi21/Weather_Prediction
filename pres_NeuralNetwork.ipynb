{
 "cells": [
  {
   "cell_type": "code",
   "execution_count": 1,
   "metadata": {},
   "outputs": [],
   "source": [
    "import pandas as pd\n",
    "import matplotlib.pyplot as plt\n",
    "import numpy as np\n",
    "from network_model import *\n",
    "from data import *"
   ]
  },
  {
   "cell_type": "code",
   "execution_count": 2,
   "metadata": {},
   "outputs": [],
   "source": [
    "train_data = get_data()\n",
    "train_data = train_data[20:]\n",
    "\n",
    "x_train_org = train_data[\"Avg_Temp_Pre_Day\"].to_numpy()\n",
    "x_train_org = np.reshape(x_train_org, (np.shape(x_train_org)[0], 1))\n",
    "y_train_org = train_data[\"Avg_Temp\"].to_numpy()\n",
    "y_train_org = np.reshape(y_train_org, (np.shape(y_train_org)[0], 1))\n",
    "x_train = standardize(x_train_org, x_train_org)\n",
    "y_train = standardize(y_train_org, y_train_org)\n",
    "\n",
    "network = NeuralNetwork(x_train[0:7].T, y_train[7], 4)"
   ]
  },
  {
   "cell_type": "code",
   "execution_count": 3,
   "metadata": {},
   "outputs": [
    {
     "name": "stderr",
     "output_type": "stream",
     "text": [
      "e:\\Repository\\Weather_Prediction\\network_model.py:37: RuntimeWarning: overflow encountered in multiply\n",
      "  output_error = (2*(self.y - self.output) * derivative(self.output))\n",
      "e:\\Repository\\Weather_Prediction\\network_model.py:42: RuntimeWarning: invalid value encountered in add\n",
      "  self.weight2 += self.rate_learning * np.dot(self.layer1.T, layer_error2)\n",
      "e:\\Repository\\Weather_Prediction\\network_model.py:45: RuntimeWarning: invalid value encountered in add\n",
      "  self.biases2 += self.rate_learning * np.sum(layer_error2, axis=0, keepdims=True)\n"
     ]
    }
   ],
   "source": [
    "y_output = np.zeros(len(x_train)-7)\n",
    "y_pred = np.zeros(len(x_train)-7)\n",
    "for i in range(len(x_train)-7):\n",
    "    network.train(x_train[i:i+7].T, y_train[i+7])\n",
    "    y_output[i] = y_train[i+7]\n",
    "    y_pred[i] = network.output[0]"
   ]
  },
  {
   "cell_type": "code",
   "execution_count": 4,
   "metadata": {},
   "outputs": [
    {
     "name": "stdout",
     "output_type": "stream",
     "text": [
      "[-40.11814273 -38.96242746 -41.61475544 ...          nan          nan\n",
      "          nan]\n"
     ]
    }
   ],
   "source": [
    "print(y_pred)"
   ]
  },
  {
   "cell_type": "code",
   "execution_count": 5,
   "metadata": {},
   "outputs": [
    {
     "data": {
      "image/png": "[encoded data removed]",
      "text/plain": [
       "<Figure size 1500x600 with 1 Axes>"
      ]
     },
     "metadata": {},
     "output_type": "display_data"
    }
   ],
   "source": [
    "plt.figure(figsize=(15,6))\n",
    "plt.xlabel(\"Number of day\")\n",
    "plt.ylabel(\"Standardized values\")\n",
    "\n",
    "x = np.arange(len(x_train)-7)\n",
    "plt.plot(x, y_output, 'b', label=\"Output\")\n",
    "plt.plot(x, y_pred, 'r', label=\"Predicted\")\n",
    "plt.legend()\n",
    "plt.show()"
   ]
  },
  {
   "cell_type": "code",
   "execution_count": 6,
   "metadata": {},
   "outputs": [
    {
     "name": "stdout",
     "output_type": "stream",
     "text": [
      "MSE: nan\n",
      "MAE: nan\n"
     ]
    }
   ],
   "source": [
    "print(f\"MSE: {network.mse(y_output, y_pred)}\")\n",
    "print(f\"MAE: {network.mae(y_output, y_pred)}\")"
   ]
  },
  {
   "attachments": {},
   "cell_type": "markdown",
   "metadata": {},
   "source": [
    "# Predicting value"
   ]
  },
  {
   "cell_type": "code",
   "execution_count": 7,
   "metadata": {},
   "outputs": [
    {
     "name": "stdout",
     "output_type": "stream",
     "text": [
      "[[nan]]\n"
     ]
    }
   ],
   "source": [
    "x_test = np.array([7,5,4,4,6,7,10])\n",
    "x_test = np.reshape(x_test, (1, np.shape(x_test)[0]))\n",
    "x_test = standardize(x_test, x_train_org)\n",
    "network.predict(x_test)\n",
    "print(unstandardize(network.output, x_train_org))"
   ]
  }
 ],
 "metadata": {
  "kernelspec": {
   "display_name": "Python 3",
   "language": "python",
   "name": "python3"
  },
  "language_info": {
   "codemirror_mode": {
    "name": "ipython",
    "version": 3
   },
   "file_extension": ".py",
   "mimetype": "text/x-python",
   "name": "python",
   "nbconvert_exporter": "python",
   "pygments_lexer": "ipython3",
   "version": "3.9.13"
  },
  "orig_nbformat": 4,
  "vscode": {
   "interpreter": {
    "hash": "dd9b9ce0a923287c7e1335c0d5b2c64627629f784640c8ea370102f12d13bfad"
   }
  }
 },
 "nbformat": 4,
 "nbformat_minor": 2
}
